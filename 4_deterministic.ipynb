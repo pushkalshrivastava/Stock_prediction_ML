{
 "cells": [
  {
   "cell_type": "markdown",
   "id": "6ff4dac3",
   "metadata": {},
   "source": [
    "# Deterministic trend in stock prices\n",
    "\n",
    "In this notebook we will compute the drift of microsoft stock prices. We will use parameters determined here while training the machine learning model that captures stochastic behavior. Our goal is to model the closing price of the stock."
   ]
  },
  {
   "cell_type": "code",
   "execution_count": 37,
   "id": "523c5101",
   "metadata": {},
   "outputs": [],
   "source": [
    "import yfinance as yf\n",
    "import pandas as pd\n",
    "import matplotlib.pyplot as plt\n",
    "import numpy as np\n",
    "\n",
    "from sklearn.metrics import mean_squared_error\n",
    "from sklearn.preprocessing import StandardScaler\n",
    "from sklearn.linear_model import LinearRegression"
   ]
  },
  {
   "cell_type": "markdown",
   "id": "6677ca84",
   "metadata": {},
   "source": [
    "Downloading Microsoft stock data from 2020-present"
   ]
  },
  {
   "cell_type": "code",
   "execution_count": 18,
   "id": "16c4858b",
   "metadata": {},
   "outputs": [],
   "source": [
    "sec_label = 'MSFT' # Microsoft\n",
    "sec = yf.Ticker(sec_label)\n",
    "data_download = sec.history(start = '2020-01-01')"
   ]
  },
  {
   "cell_type": "code",
   "execution_count": 19,
   "id": "c9c6372c",
   "metadata": {},
   "outputs": [],
   "source": [
    "data_download = data_download[data_download.Close>0]"
   ]
  },
  {
   "cell_type": "code",
   "execution_count": 20,
   "id": "9dee9706",
   "metadata": {},
   "outputs": [],
   "source": [
    "data_download=data_download.drop_duplicates()"
   ]
  },
  {
   "cell_type": "code",
   "execution_count": 21,
   "id": "334d3a55",
   "metadata": {},
   "outputs": [
    {
     "data": {
      "text/html": [
       "<div>\n",
       "<style scoped>\n",
       "    .dataframe tbody tr th:only-of-type {\n",
       "        vertical-align: middle;\n",
       "    }\n",
       "\n",
       "    .dataframe tbody tr th {\n",
       "        vertical-align: top;\n",
       "    }\n",
       "\n",
       "    .dataframe thead th {\n",
       "        text-align: right;\n",
       "    }\n",
       "</style>\n",
       "<table border=\"1\" class=\"dataframe\">\n",
       "  <thead>\n",
       "    <tr style=\"text-align: right;\">\n",
       "      <th></th>\n",
       "      <th>Open</th>\n",
       "      <th>High</th>\n",
       "      <th>Low</th>\n",
       "      <th>Close</th>\n",
       "      <th>Volume</th>\n",
       "      <th>Dividends</th>\n",
       "      <th>Stock Splits</th>\n",
       "    </tr>\n",
       "    <tr>\n",
       "      <th>Date</th>\n",
       "      <th></th>\n",
       "      <th></th>\n",
       "      <th></th>\n",
       "      <th></th>\n",
       "      <th></th>\n",
       "      <th></th>\n",
       "      <th></th>\n",
       "    </tr>\n",
       "  </thead>\n",
       "  <tbody>\n",
       "    <tr>\n",
       "      <th>2020-01-02 00:00:00-05:00</th>\n",
       "      <td>153.641577</td>\n",
       "      <td>155.528468</td>\n",
       "      <td>153.206143</td>\n",
       "      <td>155.422028</td>\n",
       "      <td>22622100</td>\n",
       "      <td>0.0</td>\n",
       "      <td>0.0</td>\n",
       "    </tr>\n",
       "    <tr>\n",
       "      <th>2020-01-03 00:00:00-05:00</th>\n",
       "      <td>153.196476</td>\n",
       "      <td>154.773716</td>\n",
       "      <td>152.944880</td>\n",
       "      <td>153.486755</td>\n",
       "      <td>21116200</td>\n",
       "      <td>0.0</td>\n",
       "      <td>0.0</td>\n",
       "    </tr>\n",
       "    <tr>\n",
       "      <th>2020-01-06 00:00:00-05:00</th>\n",
       "      <td>151.996577</td>\n",
       "      <td>153.951210</td>\n",
       "      <td>151.445017</td>\n",
       "      <td>153.883469</td>\n",
       "      <td>20813700</td>\n",
       "      <td>0.0</td>\n",
       "      <td>0.0</td>\n",
       "    </tr>\n",
       "    <tr>\n",
       "      <th>2020-01-07 00:00:00-05:00</th>\n",
       "      <td>154.164119</td>\n",
       "      <td>154.502783</td>\n",
       "      <td>152.228842</td>\n",
       "      <td>152.480423</td>\n",
       "      <td>21634100</td>\n",
       "      <td>0.0</td>\n",
       "      <td>0.0</td>\n",
       "    </tr>\n",
       "    <tr>\n",
       "      <th>2020-01-08 00:00:00-05:00</th>\n",
       "      <td>153.786731</td>\n",
       "      <td>155.596225</td>\n",
       "      <td>152.838450</td>\n",
       "      <td>154.909195</td>\n",
       "      <td>27746500</td>\n",
       "      <td>0.0</td>\n",
       "      <td>0.0</td>\n",
       "    </tr>\n",
       "  </tbody>\n",
       "</table>\n",
       "</div>"
      ],
      "text/plain": [
       "                                 Open        High         Low       Close  \\\n",
       "Date                                                                        \n",
       "2020-01-02 00:00:00-05:00  153.641577  155.528468  153.206143  155.422028   \n",
       "2020-01-03 00:00:00-05:00  153.196476  154.773716  152.944880  153.486755   \n",
       "2020-01-06 00:00:00-05:00  151.996577  153.951210  151.445017  153.883469   \n",
       "2020-01-07 00:00:00-05:00  154.164119  154.502783  152.228842  152.480423   \n",
       "2020-01-08 00:00:00-05:00  153.786731  155.596225  152.838450  154.909195   \n",
       "\n",
       "                             Volume  Dividends  Stock Splits  \n",
       "Date                                                          \n",
       "2020-01-02 00:00:00-05:00  22622100        0.0           0.0  \n",
       "2020-01-03 00:00:00-05:00  21116200        0.0           0.0  \n",
       "2020-01-06 00:00:00-05:00  20813700        0.0           0.0  \n",
       "2020-01-07 00:00:00-05:00  21634100        0.0           0.0  \n",
       "2020-01-08 00:00:00-05:00  27746500        0.0           0.0  "
      ]
     },
     "execution_count": 21,
     "metadata": {},
     "output_type": "execute_result"
    }
   ],
   "source": [
    "data_download.head()"
   ]
  },
  {
   "cell_type": "code",
   "execution_count": 22,
   "id": "da124123",
   "metadata": {
    "scrolled": false
   },
   "outputs": [
    {
     "data": {
      "image/png": "[encoded data removed]",
      "text/plain": [
       "<Figure size 640x480 with 1 Axes>"
      ]
     },
     "metadata": {},
     "output_type": "display_data"
    }
   ],
   "source": [
    "plt.figure(dpi=100)\n",
    "plt.plot(data_download.index,data_download.Close,label = 'Closing price')\n",
    "plt.plot\n",
    "plt.xlabel('Date')\n",
    "plt.title(sec_label)\n",
    "plt.ylabel('Price')\n",
    "plt.legend()\n",
    "plt.show()"
   ]
  },
  {
   "cell_type": "markdown",
   "id": "143b2fac",
   "metadata": {},
   "source": [
    "## Estimating S_0 and drift"
   ]
  },
  {
   "cell_type": "code",
   "execution_count": 35,
   "id": "090d1fb3",
   "metadata": {},
   "outputs": [],
   "source": [
    "logS = np.log(data_download.Close[0:int(0.8*len(data_download))])"
   ]
  },
  {
   "cell_type": "code",
   "execution_count": 36,
   "id": "e31b8c5f",
   "metadata": {},
   "outputs": [
    {
     "data": {
      "image/png": "[encoded data removed]",
      "text/plain": [
       "<Figure size 640x480 with 1 Axes>"
      ]
     },
     "metadata": {},
     "output_type": "display_data"
    }
   ],
   "source": [
    "plt.figure(dpi=100)\n",
    "plt.plot(data_download.index[0:int(0.8*len(data_download))],logS,label = 'log of closing price')\n",
    "plt.plot\n",
    "plt.xlabel('Date')\n",
    "plt.title(sec_label)\n",
    "plt.ylabel('Price')\n",
    "plt.legend()\n",
    "plt.show()"
   ]
  },
  {
   "cell_type": "code",
   "execution_count": 57,
   "id": "4ee219e9",
   "metadata": {},
   "outputs": [],
   "source": [
    "x = np.arange(len(logS)).reshape(-1,1)\n",
    "y=[]\n",
    "for i in range(len(logS)):\n",
    "    y.append(logS[i])"
   ]
  },
  {
   "cell_type": "code",
   "execution_count": 58,
   "id": "b9e94698",
   "metadata": {},
   "outputs": [],
   "source": [
    "model_linear = LinearRegression()"
   ]
  },
  {
   "cell_type": "code",
   "execution_count": 59,
   "id": "a2cdeaf3",
   "metadata": {},
   "outputs": [
    {
     "data": {
      "text/html": [
       "<style>#sk-container-id-1 {color: black;background-color: white;}#sk-container-id-1 pre{padding: 0;}#sk-container-id-1 div.sk-toggleable {background-color: white;}#sk-container-id-1 label.sk-toggleable__label {cursor: pointer;display: block;width: 100%;margin-bottom: 0;padding: 0.3em;box-sizing: border-box;text-align: center;}#sk-container-id-1 label.sk-toggleable__label-arrow:before {content: \"▸\";float: left;margin-right: 0.25em;color: #696969;}#sk-container-id-1 label.sk-toggleable__label-arrow:hover:before {color: black;}#sk-container-id-1 div.sk-estimator:hover label.sk-toggleable__label-arrow:before {color: black;}#sk-container-id-1 div.sk-toggleable__content {max-height: 0;max-width: 0;overflow: hidden;text-align: left;background-color: #f0f8ff;}#sk-container-id-1 div.sk-toggleable__content pre {margin: 0.2em;color: black;border-radius: 0.25em;background-color: #f0f8ff;}#sk-container-id-1 input.sk-toggleable__control:checked~div.sk-toggleable__content {max-height: 200px;max-width: 100%;overflow: auto;}#sk-container-id-1 input.sk-toggleable__control:checked~label.sk-toggleable__label-arrow:before {content: \"▾\";}#sk-container-id-1 div.sk-estimator input.sk-toggleable__control:checked~label.sk-toggleable__label {background-color: #d4ebff;}#sk-container-id-1 div.sk-label input.sk-toggleable__control:checked~label.sk-toggleable__label {background-color: #d4ebff;}#sk-container-id-1 input.sk-hidden--visually {border: 0;clip: rect(1px 1px 1px 1px);clip: rect(1px, 1px, 1px, 1px);height: 1px;margin: -1px;overflow: hidden;padding: 0;position: absolute;width: 1px;}#sk-container-id-1 div.sk-estimator {font-family: monospace;background-color: #f0f8ff;border: 1px dotted black;border-radius: 0.25em;box-sizing: border-box;margin-bottom: 0.5em;}#sk-container-id-1 div.sk-estimator:hover {background-color: #d4ebff;}#sk-container-id-1 div.sk-parallel-item::after {content: \"\";width: 100%;border-bottom: 1px solid gray;flex-grow: 1;}#sk-container-id-1 div.sk-label:hover label.sk-toggleable__label {background-color: #d4ebff;}#sk-container-id-1 div.sk-serial::before {content: \"\";position: absolute;border-left: 1px solid gray;box-sizing: border-box;top: 0;bottom: 0;left: 50%;z-index: 0;}#sk-container-id-1 div.sk-serial {display: flex;flex-direction: column;align-items: center;background-color: white;padding-right: 0.2em;padding-left: 0.2em;position: relative;}#sk-container-id-1 div.sk-item {position: relative;z-index: 1;}#sk-container-id-1 div.sk-parallel {display: flex;align-items: stretch;justify-content: center;background-color: white;position: relative;}#sk-container-id-1 div.sk-item::before, #sk-container-id-1 div.sk-parallel-item::before {content: \"\";position: absolute;border-left: 1px solid gray;box-sizing: border-box;top: 0;bottom: 0;left: 50%;z-index: -1;}#sk-container-id-1 div.sk-parallel-item {display: flex;flex-direction: column;z-index: 1;position: relative;background-color: white;}#sk-container-id-1 div.sk-parallel-item:first-child::after {align-self: flex-end;width: 50%;}#sk-container-id-1 div.sk-parallel-item:last-child::after {align-self: flex-start;width: 50%;}#sk-container-id-1 div.sk-parallel-item:only-child::after {width: 0;}#sk-container-id-1 div.sk-dashed-wrapped {border: 1px dashed gray;margin: 0 0.4em 0.5em 0.4em;box-sizing: border-box;padding-bottom: 0.4em;background-color: white;}#sk-container-id-1 div.sk-label label {font-family: monospace;font-weight: bold;display: inline-block;line-height: 1.2em;}#sk-container-id-1 div.sk-label-container {text-align: center;}#sk-container-id-1 div.sk-container {/* jupyter's `normalize.less` sets `[hidden] { display: none; }` but bootstrap.min.css set `[hidden] { display: none !important; }` so we also need the `!important` here to be able to override the default hidden behavior on the sphinx rendered scikit-learn.org. See: https://github.com/scikit-learn/scikit-learn/issues/21755 */display: inline-block !important;position: relative;}#sk-container-id-1 div.sk-text-repr-fallback {display: none;}</style><div id=\"sk-container-id-1\" class=\"sk-top-container\"><div class=\"sk-text-repr-fallback\"><pre>LinearRegression()</pre><b>In a Jupyter environment, please rerun this cell to show the HTML representation or trust the notebook. <br />On GitHub, the HTML representation is unable to render, please try loading this page with nbviewer.org.</b></div><div class=\"sk-container\" hidden><div class=\"sk-item\"><div class=\"sk-estimator sk-toggleable\"><input class=\"sk-toggleable__control sk-hidden--visually\" id=\"sk-estimator-id-1\" type=\"checkbox\" checked><label for=\"sk-estimator-id-1\" class=\"sk-toggleable__label sk-toggleable__label-arrow\">LinearRegression</label><div class=\"sk-toggleable__content\"><pre>LinearRegression()</pre></div></div></div></div></div>"
      ],
      "text/plain": [
       "LinearRegression()"
      ]
     },
     "execution_count": 59,
     "metadata": {},
     "output_type": "execute_result"
    }
   ],
   "source": [
    "model_linear.fit(x,y)"
   ]
  },
  {
   "cell_type": "code",
   "execution_count": 60,
   "id": "be3673ed",
   "metadata": {},
   "outputs": [
    {
     "data": {
      "text/plain": [
       "0.7109276029316429"
      ]
     },
     "execution_count": 60,
     "metadata": {},
     "output_type": "execute_result"
    }
   ],
   "source": [
    "model_linear.score(x,y)"
   ]
  },
  {
   "cell_type": "code",
   "execution_count": 67,
   "id": "eeaa551c",
   "metadata": {},
   "outputs": [
    {
     "name": "stdout",
     "output_type": "stream",
     "text": [
      "log S_0 = 5.150137561751342\n",
      "drift coefficient (with time period = 1 day) = 0.0009143920969670385\n"
     ]
    }
   ],
   "source": [
    "intercept = model_linear.intercept_\n",
    "drift_coeff = model_linear.coef_[0]\n",
    "print(f'''log S_0 = {intercept}\n",
    "drift coefficient (with time period = 1 day) = {drift_coeff}''')"
   ]
  },
  {
   "cell_type": "code",
   "execution_count": 69,
   "id": "2fe3a9a9",
   "metadata": {},
   "outputs": [],
   "source": [
    "base_stock = []\n",
    "for i in range(len(data_download)):\n",
    "    base_stock.append(np.exp(drift_coeff*i + intercept))"
   ]
  },
  {
   "cell_type": "markdown",
   "id": "91fc04e9",
   "metadata": {},
   "source": [
    "Plotting the deterministic drift"
   ]
  },
  {
   "cell_type": "code",
   "execution_count": 70,
   "id": "2aa16eb6",
   "metadata": {},
   "outputs": [
    {
     "data": {
      "image/png": "[encoded data removed]",
      "text/plain": [
       "<Figure size 640x480 with 1 Axes>"
      ]
     },
     "metadata": {},
     "output_type": "display_data"
    }
   ],
   "source": [
    "plt.figure(dpi=100)\n",
    "plt.plot(data_download.index,data_download.Close,label = 'Closing price')\n",
    "plt.plot(data_download.index,base_stock,label = 'Deterministic drift')\n",
    "plt.plot\n",
    "plt.xlabel('Date')\n",
    "plt.title(sec_label)\n",
    "plt.ylabel('Price')\n",
    "plt.legend()\n",
    "plt.show()"
   ]
  },
  {
   "cell_type": "code",
   "execution_count": 71,
   "id": "3190e96d",
   "metadata": {},
   "outputs": [],
   "source": [
    "data_download['drift'] = base_stock"
   ]
  },
  {
   "cell_type": "code",
   "execution_count": 72,
   "id": "04dfd0e7",
   "metadata": {},
   "outputs": [
    {
     "data": {
      "text/html": [
       "<div>\n",
       "<style scoped>\n",
       "    .dataframe tbody tr th:only-of-type {\n",
       "        vertical-align: middle;\n",
       "    }\n",
       "\n",
       "    .dataframe tbody tr th {\n",
       "        vertical-align: top;\n",
       "    }\n",
       "\n",
       "    .dataframe thead th {\n",
       "        text-align: right;\n",
       "    }\n",
       "</style>\n",
       "<table border=\"1\" class=\"dataframe\">\n",
       "  <thead>\n",
       "    <tr style=\"text-align: right;\">\n",
       "      <th></th>\n",
       "      <th>Open</th>\n",
       "      <th>High</th>\n",
       "      <th>Low</th>\n",
       "      <th>Close</th>\n",
       "      <th>Volume</th>\n",
       "      <th>Dividends</th>\n",
       "      <th>Stock Splits</th>\n",
       "      <th>drift</th>\n",
       "    </tr>\n",
       "    <tr>\n",
       "      <th>Date</th>\n",
       "      <th></th>\n",
       "      <th></th>\n",
       "      <th></th>\n",
       "      <th></th>\n",
       "      <th></th>\n",
       "      <th></th>\n",
       "      <th></th>\n",
       "      <th></th>\n",
       "    </tr>\n",
       "  </thead>\n",
       "  <tbody>\n",
       "    <tr>\n",
       "      <th>2020-01-02 00:00:00-05:00</th>\n",
       "      <td>153.641577</td>\n",
       "      <td>155.528468</td>\n",
       "      <td>153.206143</td>\n",
       "      <td>155.422028</td>\n",
       "      <td>22622100</td>\n",
       "      <td>0.0</td>\n",
       "      <td>0.0</td>\n",
       "      <td>172.455212</td>\n",
       "    </tr>\n",
       "    <tr>\n",
       "      <th>2020-01-03 00:00:00-05:00</th>\n",
       "      <td>153.196476</td>\n",
       "      <td>154.773716</td>\n",
       "      <td>152.944880</td>\n",
       "      <td>153.486755</td>\n",
       "      <td>21116200</td>\n",
       "      <td>0.0</td>\n",
       "      <td>0.0</td>\n",
       "      <td>172.612976</td>\n",
       "    </tr>\n",
       "    <tr>\n",
       "      <th>2020-01-06 00:00:00-05:00</th>\n",
       "      <td>151.996577</td>\n",
       "      <td>153.951210</td>\n",
       "      <td>151.445017</td>\n",
       "      <td>153.883469</td>\n",
       "      <td>20813700</td>\n",
       "      <td>0.0</td>\n",
       "      <td>0.0</td>\n",
       "      <td>172.770884</td>\n",
       "    </tr>\n",
       "    <tr>\n",
       "      <th>2020-01-07 00:00:00-05:00</th>\n",
       "      <td>154.164119</td>\n",
       "      <td>154.502783</td>\n",
       "      <td>152.228842</td>\n",
       "      <td>152.480423</td>\n",
       "      <td>21634100</td>\n",
       "      <td>0.0</td>\n",
       "      <td>0.0</td>\n",
       "      <td>172.928936</td>\n",
       "    </tr>\n",
       "    <tr>\n",
       "      <th>2020-01-08 00:00:00-05:00</th>\n",
       "      <td>153.786731</td>\n",
       "      <td>155.596225</td>\n",
       "      <td>152.838450</td>\n",
       "      <td>154.909195</td>\n",
       "      <td>27746500</td>\n",
       "      <td>0.0</td>\n",
       "      <td>0.0</td>\n",
       "      <td>173.087134</td>\n",
       "    </tr>\n",
       "    <tr>\n",
       "      <th>...</th>\n",
       "      <td>...</td>\n",
       "      <td>...</td>\n",
       "      <td>...</td>\n",
       "      <td>...</td>\n",
       "      <td>...</td>\n",
       "      <td>...</td>\n",
       "      <td>...</td>\n",
       "      <td>...</td>\n",
       "    </tr>\n",
       "    <tr>\n",
       "      <th>2023-06-05 00:00:00-04:00</th>\n",
       "      <td>335.220001</td>\n",
       "      <td>338.559998</td>\n",
       "      <td>334.660004</td>\n",
       "      <td>335.940002</td>\n",
       "      <td>21307100</td>\n",
       "      <td>0.0</td>\n",
       "      <td>0.0</td>\n",
       "      <td>378.959431</td>\n",
       "    </tr>\n",
       "    <tr>\n",
       "      <th>2023-06-06 00:00:00-04:00</th>\n",
       "      <td>335.329987</td>\n",
       "      <td>335.369995</td>\n",
       "      <td>332.170013</td>\n",
       "      <td>333.679993</td>\n",
       "      <td>20396200</td>\n",
       "      <td>0.0</td>\n",
       "      <td>0.0</td>\n",
       "      <td>379.306107</td>\n",
       "    </tr>\n",
       "    <tr>\n",
       "      <th>2023-06-07 00:00:00-04:00</th>\n",
       "      <td>331.649994</td>\n",
       "      <td>334.489990</td>\n",
       "      <td>322.500000</td>\n",
       "      <td>323.380005</td>\n",
       "      <td>40717100</td>\n",
       "      <td>0.0</td>\n",
       "      <td>0.0</td>\n",
       "      <td>379.653100</td>\n",
       "    </tr>\n",
       "    <tr>\n",
       "      <th>2023-06-08 00:00:00-04:00</th>\n",
       "      <td>323.940002</td>\n",
       "      <td>326.640015</td>\n",
       "      <td>323.350006</td>\n",
       "      <td>325.260010</td>\n",
       "      <td>23277700</td>\n",
       "      <td>0.0</td>\n",
       "      <td>0.0</td>\n",
       "      <td>380.000411</td>\n",
       "    </tr>\n",
       "    <tr>\n",
       "      <th>2023-06-09 00:00:00-04:00</th>\n",
       "      <td>324.989990</td>\n",
       "      <td>329.989990</td>\n",
       "      <td>324.450012</td>\n",
       "      <td>326.790009</td>\n",
       "      <td>21438005</td>\n",
       "      <td>0.0</td>\n",
       "      <td>0.0</td>\n",
       "      <td>380.348039</td>\n",
       "    </tr>\n",
       "  </tbody>\n",
       "</table>\n",
       "<p>866 rows × 8 columns</p>\n",
       "</div>"
      ],
      "text/plain": [
       "                                 Open        High         Low       Close  \\\n",
       "Date                                                                        \n",
       "2020-01-02 00:00:00-05:00  153.641577  155.528468  153.206143  155.422028   \n",
       "2020-01-03 00:00:00-05:00  153.196476  154.773716  152.944880  153.486755   \n",
       "2020-01-06 00:00:00-05:00  151.996577  153.951210  151.445017  153.883469   \n",
       "2020-01-07 00:00:00-05:00  154.164119  154.502783  152.228842  152.480423   \n",
       "2020-01-08 00:00:00-05:00  153.786731  155.596225  152.838450  154.909195   \n",
       "...                               ...         ...         ...         ...   \n",
       "2023-06-05 00:00:00-04:00  335.220001  338.559998  334.660004  335.940002   \n",
       "2023-06-06 00:00:00-04:00  335.329987  335.369995  332.170013  333.679993   \n",
       "2023-06-07 00:00:00-04:00  331.649994  334.489990  322.500000  323.380005   \n",
       "2023-06-08 00:00:00-04:00  323.940002  326.640015  323.350006  325.260010   \n",
       "2023-06-09 00:00:00-04:00  324.989990  329.989990  324.450012  326.790009   \n",
       "\n",
       "                             Volume  Dividends  Stock Splits       drift  \n",
       "Date                                                                      \n",
       "2020-01-02 00:00:00-05:00  22622100        0.0           0.0  172.455212  \n",
       "2020-01-03 00:00:00-05:00  21116200        0.0           0.0  172.612976  \n",
       "2020-01-06 00:00:00-05:00  20813700        0.0           0.0  172.770884  \n",
       "2020-01-07 00:00:00-05:00  21634100        0.0           0.0  172.928936  \n",
       "2020-01-08 00:00:00-05:00  27746500        0.0           0.0  173.087134  \n",
       "...                             ...        ...           ...         ...  \n",
       "2023-06-05 00:00:00-04:00  21307100        0.0           0.0  378.959431  \n",
       "2023-06-06 00:00:00-04:00  20396200        0.0           0.0  379.306107  \n",
       "2023-06-07 00:00:00-04:00  40717100        0.0           0.0  379.653100  \n",
       "2023-06-08 00:00:00-04:00  23277700        0.0           0.0  380.000411  \n",
       "2023-06-09 00:00:00-04:00  21438005        0.0           0.0  380.348039  \n",
       "\n",
       "[866 rows x 8 columns]"
      ]
     },
     "execution_count": 72,
     "metadata": {},
     "output_type": "execute_result"
    }
   ],
   "source": [
    "data_download"
   ]
  },
  {
   "cell_type": "markdown",
   "id": "414e5000",
   "metadata": {},
   "source": [
    "We will now save this data frame for future analysis. We will drop columns dividends and stock spills."
   ]
  },
  {
   "cell_type": "code",
   "execution_count": 77,
   "id": "3097144f",
   "metadata": {},
   "outputs": [],
   "source": [
    "df = data_download.drop(columns = ['Dividends','Stock Splits'])"
   ]
  },
  {
   "cell_type": "code",
   "execution_count": 78,
   "id": "debd558b",
   "metadata": {},
   "outputs": [
    {
     "data": {
      "text/html": [
       "<div>\n",
       "<style scoped>\n",
       "    .dataframe tbody tr th:only-of-type {\n",
       "        vertical-align: middle;\n",
       "    }\n",
       "\n",
       "    .dataframe tbody tr th {\n",
       "        vertical-align: top;\n",
       "    }\n",
       "\n",
       "    .dataframe thead th {\n",
       "        text-align: right;\n",
       "    }\n",
       "</style>\n",
       "<table border=\"1\" class=\"dataframe\">\n",
       "  <thead>\n",
       "    <tr style=\"text-align: right;\">\n",
       "      <th></th>\n",
       "      <th>Open</th>\n",
       "      <th>High</th>\n",
       "      <th>Low</th>\n",
       "      <th>Close</th>\n",
       "      <th>Volume</th>\n",
       "      <th>drift</th>\n",
       "    </tr>\n",
       "    <tr>\n",
       "      <th>Date</th>\n",
       "      <th></th>\n",
       "      <th></th>\n",
       "      <th></th>\n",
       "      <th></th>\n",
       "      <th></th>\n",
       "      <th></th>\n",
       "    </tr>\n",
       "  </thead>\n",
       "  <tbody>\n",
       "    <tr>\n",
       "      <th>2020-01-02 00:00:00-05:00</th>\n",
       "      <td>153.641577</td>\n",
       "      <td>155.528468</td>\n",
       "      <td>153.206143</td>\n",
       "      <td>155.422028</td>\n",
       "      <td>22622100</td>\n",
       "      <td>172.455212</td>\n",
       "    </tr>\n",
       "    <tr>\n",
       "      <th>2020-01-03 00:00:00-05:00</th>\n",
       "      <td>153.196476</td>\n",
       "      <td>154.773716</td>\n",
       "      <td>152.944880</td>\n",
       "      <td>153.486755</td>\n",
       "      <td>21116200</td>\n",
       "      <td>172.612976</td>\n",
       "    </tr>\n",
       "    <tr>\n",
       "      <th>2020-01-06 00:00:00-05:00</th>\n",
       "      <td>151.996577</td>\n",
       "      <td>153.951210</td>\n",
       "      <td>151.445017</td>\n",
       "      <td>153.883469</td>\n",
       "      <td>20813700</td>\n",
       "      <td>172.770884</td>\n",
       "    </tr>\n",
       "    <tr>\n",
       "      <th>2020-01-07 00:00:00-05:00</th>\n",
       "      <td>154.164119</td>\n",
       "      <td>154.502783</td>\n",
       "      <td>152.228842</td>\n",
       "      <td>152.480423</td>\n",
       "      <td>21634100</td>\n",
       "      <td>172.928936</td>\n",
       "    </tr>\n",
       "    <tr>\n",
       "      <th>2020-01-08 00:00:00-05:00</th>\n",
       "      <td>153.786731</td>\n",
       "      <td>155.596225</td>\n",
       "      <td>152.838450</td>\n",
       "      <td>154.909195</td>\n",
       "      <td>27746500</td>\n",
       "      <td>173.087134</td>\n",
       "    </tr>\n",
       "    <tr>\n",
       "      <th>...</th>\n",
       "      <td>...</td>\n",
       "      <td>...</td>\n",
       "      <td>...</td>\n",
       "      <td>...</td>\n",
       "      <td>...</td>\n",
       "      <td>...</td>\n",
       "    </tr>\n",
       "    <tr>\n",
       "      <th>2023-06-05 00:00:00-04:00</th>\n",
       "      <td>335.220001</td>\n",
       "      <td>338.559998</td>\n",
       "      <td>334.660004</td>\n",
       "      <td>335.940002</td>\n",
       "      <td>21307100</td>\n",
       "      <td>378.959431</td>\n",
       "    </tr>\n",
       "    <tr>\n",
       "      <th>2023-06-06 00:00:00-04:00</th>\n",
       "      <td>335.329987</td>\n",
       "      <td>335.369995</td>\n",
       "      <td>332.170013</td>\n",
       "      <td>333.679993</td>\n",
       "      <td>20396200</td>\n",
       "      <td>379.306107</td>\n",
       "    </tr>\n",
       "    <tr>\n",
       "      <th>2023-06-07 00:00:00-04:00</th>\n",
       "      <td>331.649994</td>\n",
       "      <td>334.489990</td>\n",
       "      <td>322.500000</td>\n",
       "      <td>323.380005</td>\n",
       "      <td>40717100</td>\n",
       "      <td>379.653100</td>\n",
       "    </tr>\n",
       "    <tr>\n",
       "      <th>2023-06-08 00:00:00-04:00</th>\n",
       "      <td>323.940002</td>\n",
       "      <td>326.640015</td>\n",
       "      <td>323.350006</td>\n",
       "      <td>325.260010</td>\n",
       "      <td>23277700</td>\n",
       "      <td>380.000411</td>\n",
       "    </tr>\n",
       "    <tr>\n",
       "      <th>2023-06-09 00:00:00-04:00</th>\n",
       "      <td>324.989990</td>\n",
       "      <td>329.989990</td>\n",
       "      <td>324.450012</td>\n",
       "      <td>326.790009</td>\n",
       "      <td>21438005</td>\n",
       "      <td>380.348039</td>\n",
       "    </tr>\n",
       "  </tbody>\n",
       "</table>\n",
       "<p>866 rows × 6 columns</p>\n",
       "</div>"
      ],
      "text/plain": [
       "                                 Open        High         Low       Close  \\\n",
       "Date                                                                        \n",
       "2020-01-02 00:00:00-05:00  153.641577  155.528468  153.206143  155.422028   \n",
       "2020-01-03 00:00:00-05:00  153.196476  154.773716  152.944880  153.486755   \n",
       "2020-01-06 00:00:00-05:00  151.996577  153.951210  151.445017  153.883469   \n",
       "2020-01-07 00:00:00-05:00  154.164119  154.502783  152.228842  152.480423   \n",
       "2020-01-08 00:00:00-05:00  153.786731  155.596225  152.838450  154.909195   \n",
       "...                               ...         ...         ...         ...   \n",
       "2023-06-05 00:00:00-04:00  335.220001  338.559998  334.660004  335.940002   \n",
       "2023-06-06 00:00:00-04:00  335.329987  335.369995  332.170013  333.679993   \n",
       "2023-06-07 00:00:00-04:00  331.649994  334.489990  322.500000  323.380005   \n",
       "2023-06-08 00:00:00-04:00  323.940002  326.640015  323.350006  325.260010   \n",
       "2023-06-09 00:00:00-04:00  324.989990  329.989990  324.450012  326.790009   \n",
       "\n",
       "                             Volume       drift  \n",
       "Date                                             \n",
       "2020-01-02 00:00:00-05:00  22622100  172.455212  \n",
       "2020-01-03 00:00:00-05:00  21116200  172.612976  \n",
       "2020-01-06 00:00:00-05:00  20813700  172.770884  \n",
       "2020-01-07 00:00:00-05:00  21634100  172.928936  \n",
       "2020-01-08 00:00:00-05:00  27746500  173.087134  \n",
       "...                             ...         ...  \n",
       "2023-06-05 00:00:00-04:00  21307100  378.959431  \n",
       "2023-06-06 00:00:00-04:00  20396200  379.306107  \n",
       "2023-06-07 00:00:00-04:00  40717100  379.653100  \n",
       "2023-06-08 00:00:00-04:00  23277700  380.000411  \n",
       "2023-06-09 00:00:00-04:00  21438005  380.348039  \n",
       "\n",
       "[866 rows x 6 columns]"
      ]
     },
     "execution_count": 78,
     "metadata": {},
     "output_type": "execute_result"
    }
   ],
   "source": [
    "df"
   ]
  },
  {
   "cell_type": "code",
   "execution_count": 79,
   "id": "e5bbbd04",
   "metadata": {},
   "outputs": [],
   "source": [
    "df.to_csv('MSFT_stock_data.csv')"
   ]
  },
  {
   "cell_type": "code",
   "execution_count": null,
   "id": "363da4ee",
   "metadata": {},
   "outputs": [],
   "source": []
  }
 ],
 "metadata": {
  "kernelspec": {
   "display_name": "Python 3 (ipykernel)",
   "language": "python",
   "name": "python3"
  },
  "language_info": {
   "codemirror_mode": {
    "name": "ipython",
    "version": 3
   },
   "file_extension": ".py",
   "mimetype": "text/x-python",
   "name": "python",
   "nbconvert_exporter": "python",
   "pygments_lexer": "ipython3",
   "version": "3.10.8"
  }
 },
 "nbformat": 4,
 "nbformat_minor": 5
}
